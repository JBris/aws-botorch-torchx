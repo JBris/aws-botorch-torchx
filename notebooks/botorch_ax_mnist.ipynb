{
 "cells": [
  {
   "cell_type": "code",
   "execution_count": 78,
   "id": "507bc0da-4905-4be4-8580-06d366dfdafe",
   "metadata": {},
   "outputs": [],
   "source": [
    "import os\n",
    "\n",
    "os.environ[\"AWS_ACCESS_KEY_ID\"] = \"foo\"\n",
    "os.environ[\"AWS_SECRET_ACCESS_KEY\"] = \"bar\"\n",
    "os.environ[\"AWS_DEFAULT_REGION\"] = \"ap-southeast-2\""
   ]
  },
  {
   "cell_type": "code",
   "execution_count": 79,
   "id": "9dd28292-2e2e-4642-be7e-1c9496c2b1de",
   "metadata": {},
   "outputs": [],
   "source": [
    "from pathlib import Path\n",
    "\n",
    "import torchx\n",
    "\n",
    "from torchx import specs\n",
    "from torchx.components import utils\n",
    "\n",
    "\n",
    "def trainer(\n",
    "    log_path: str,\n",
    "    hidden_size_1: int,\n",
    "    hidden_size_2: int,\n",
    "    learning_rate: float,\n",
    "    epochs: int,\n",
    "    dropout: float,\n",
    "    batch_size: int,\n",
    "    trial_idx: int = -1,\n",
    ") -> specs.AppDef:\n",
    "\n",
    "    # define the log path so we can pass it to the TorchX ``AppDef``\n",
    "    if trial_idx >= 0:\n",
    "        log_path = Path(log_path).joinpath(str(trial_idx)).absolute().as_posix()\n",
    "\n",
    "    return utils.python(\n",
    "        # command line arguments to the training script\n",
    "        \"--log_path\",\n",
    "        log_path,\n",
    "        \"--hidden_size_1\",\n",
    "        str(hidden_size_1),\n",
    "        \"--hidden_size_2\",\n",
    "        str(hidden_size_2),\n",
    "        \"--learning_rate\",\n",
    "        str(learning_rate),\n",
    "        \"--epochs\",\n",
    "        str(epochs),\n",
    "        \"--dropout\",\n",
    "        str(dropout),\n",
    "        \"--batch_size\",\n",
    "        str(batch_size),\n",
    "        # other config options\n",
    "        name=\"trainer\",\n",
    "        script=\"mnist.py\",\n",
    "        # script=\"/opt/mnist.py\",\n",
    "        image=\"ghcr.io/jbris/torchx-aws-test:1.0.0\",\n",
    "    )\n",
    "\n",
    "import tempfile\n",
    "from ax.runners.torchx import TorchXRunner\n",
    "\n",
    "# Make a temporary dir to log our results into\n",
    "log_dir = tempfile.mkdtemp()\n",
    "\n",
    "scheduler = \"aws_batch\"\n",
    "scheduler=\"local_cwd\"\n",
    "\n",
    "ax_runner = TorchXRunner(\n",
    "    tracker_base=\"/tmp/\",\n",
    "    component=trainer,\n",
    "    scheduler=scheduler,\n",
    "    component_const_params={\"log_path\": log_dir},\n",
    "    cfg={\"queue\": \"torchx_queue\"},\n",
    ")"
   ]
  },
  {
   "cell_type": "code",
   "execution_count": 80,
   "id": "187da42d-0d11-406d-9df8-053fa8fdc879",
   "metadata": {},
   "outputs": [],
   "source": [
    "from ax.core import (\n",
    "    ChoiceParameter,\n",
    "    ParameterType,\n",
    "    RangeParameter,\n",
    "    SearchSpace,\n",
    ")\n",
    "\n",
    "parameters = [\n",
    "    # NOTE: In a real-world setting, hidden_size_1 and hidden_size_2\n",
    "    # should probably be powers of 2, but in our simple example this\n",
    "    # would mean that ``num_params`` can't take on that many values, which\n",
    "    # in turn makes the Pareto frontier look pretty weird.\n",
    "    RangeParameter(\n",
    "        name=\"hidden_size_1\",\n",
    "        lower=16,\n",
    "        upper=128,\n",
    "        parameter_type=ParameterType.INT,\n",
    "        log_scale=True,\n",
    "    ),\n",
    "    RangeParameter(\n",
    "        name=\"hidden_size_2\",\n",
    "        lower=16,\n",
    "        upper=128,\n",
    "        parameter_type=ParameterType.INT,\n",
    "        log_scale=True,\n",
    "    ),\n",
    "    RangeParameter(\n",
    "        name=\"learning_rate\",\n",
    "        lower=1e-4,\n",
    "        upper=1e-2,\n",
    "        parameter_type=ParameterType.FLOAT,\n",
    "        log_scale=True,\n",
    "    ),\n",
    "    RangeParameter(\n",
    "        name=\"epochs\",\n",
    "        lower=1,\n",
    "        upper=4,\n",
    "        parameter_type=ParameterType.INT,\n",
    "    ),\n",
    "    RangeParameter(\n",
    "        name=\"dropout\",\n",
    "        lower=0.0,\n",
    "        upper=0.5,\n",
    "        parameter_type=ParameterType.FLOAT,\n",
    "    ),\n",
    "    ChoiceParameter(  # NOTE: ``ChoiceParameters`` don't require log-scale\n",
    "        name=\"batch_size\",\n",
    "        values=[32, 64, 128, 256],\n",
    "        parameter_type=ParameterType.INT,\n",
    "        is_ordered=True,\n",
    "        sort_values=True,\n",
    "    ),\n",
    "]\n",
    "\n",
    "search_space = SearchSpace(\n",
    "    parameters=parameters,\n",
    "    # NOTE: In practice, it may make sense to add a constraint\n",
    "    # hidden_size_2 <= hidden_size_1\n",
    "    parameter_constraints=[],\n",
    ")\n",
    "\n",
    "from ax.metrics.tensorboard import TensorboardMetric\n",
    "from tensorboard.backend.event_processing import plugin_event_multiplexer as event_multiplexer\n",
    "\n",
    "class MyTensorboardMetric(TensorboardMetric):\n",
    "\n",
    "    # NOTE: We need to tell the new TensorBoard metric how to get the id /\n",
    "    # file handle for the TensorBoard logs from a trial. In this case\n",
    "    # our convention is to just save a separate file per trial in\n",
    "    # the prespecified log dir.\n",
    "    def _get_event_multiplexer_for_trial(self, trial):\n",
    "        mul = event_multiplexer.EventMultiplexer(max_reload_threads=20)\n",
    "        mul.AddRunsFromDirectory(Path(log_dir).joinpath(str(trial.index)).as_posix(), None)\n",
    "        mul.Reload()\n",
    "    \n",
    "        return mul\n",
    "\n",
    "    # This indicates whether the metric is queryable while the trial is\n",
    "    # still running. We don't use this in the current tutorial, but Ax\n",
    "    # utilizes this to implement trial-level early-stopping functionality.\n",
    "    @classmethod\n",
    "    def is_available_while_running(cls):\n",
    "        return False\n",
    "\n",
    "val_acc = MyTensorboardMetric(\n",
    "    name=\"val_acc\",\n",
    "    tag=\"val_acc\",\n",
    "    lower_is_better=False,\n",
    ")\n",
    "model_num_params = MyTensorboardMetric(\n",
    "    name=\"num_params\",\n",
    "    tag=\"num_params\",\n",
    "    lower_is_better=True,\n",
    ")\n"
   ]
  },
  {
   "cell_type": "code",
   "execution_count": 84,
   "id": "b0f3c7f2-dab7-4677-a85b-a3862c141c70",
   "metadata": {},
   "outputs": [
    {
     "name": "stderr",
     "output_type": "stream",
     "text": [
      "[INFO 01-07 02:08:28] ax.modelbridge.dispatch_utils: Using Models.BOTORCH_MODULAR since there is at least one ordered parameter and there are no unordered categorical parameters.\n",
      "[INFO 01-07 02:08:28] ax.modelbridge.dispatch_utils: Calculating the number of remaining initialization trials based on num_initialization_trials=None max_initialization_trials=None num_tunable_parameters=6 num_trials=48 use_batch_trials=False\n",
      "[INFO 01-07 02:08:28] ax.modelbridge.dispatch_utils: calculated num_initialization_trials=9\n",
      "[INFO 01-07 02:08:28] ax.modelbridge.dispatch_utils: num_completed_initialization_trials=0 num_remaining_initialization_trials=9\n",
      "[INFO 01-07 02:08:28] ax.modelbridge.dispatch_utils: `verbose`, `disable_progbar`, and `jit_compile` are not yet supported when using `choose_generation_strategy` with ModularBoTorchModel, dropping these arguments.\n",
      "[INFO 01-07 02:08:28] ax.modelbridge.dispatch_utils: Using Bayesian Optimization generation strategy: GenerationStrategy(name='Sobol+BoTorch', steps=[Sobol for 9 trials, BoTorch for subsequent trials]). Iterations after 9 will take longer to generate due to model-fitting.\n",
      "[INFO 01-07 02:08:28] Scheduler: `Scheduler` requires experiment to have immutable search space and optimization config. Setting property immutable_search_space_and_opt_config to `True` on experiment.\n",
      "[INFO 01-07 02:08:28] Scheduler: Fetching data for newly completed trials: [].\n",
      "/home/jbris/.cache/pypoetry/virtualenvs/aws-botorch-torchx-087hCjDl-py3.10/lib/python3.10/site-packages/ax/modelbridge/cross_validation.py:463: UserWarning:\n",
      "\n",
      "Encountered exception in computing model fit quality: RandomModelBridge does not support prediction.\n",
      "\n",
      "[INFO 01-07 02:08:28] Scheduler: Running trials [0]...\n",
      "/home/jbris/.cache/pypoetry/virtualenvs/aws-botorch-torchx-087hCjDl-py3.10/lib/python3.10/site-packages/ax/modelbridge/cross_validation.py:463: UserWarning:\n",
      "\n",
      "Encountered exception in computing model fit quality: RandomModelBridge does not support prediction.\n",
      "\n",
      "[INFO 01-07 02:08:29] Scheduler: Running trials [1]...\n",
      "/home/jbris/.cache/pypoetry/virtualenvs/aws-botorch-torchx-087hCjDl-py3.10/lib/python3.10/site-packages/ax/modelbridge/cross_validation.py:463: UserWarning:\n",
      "\n",
      "Encountered exception in computing model fit quality: RandomModelBridge does not support prediction.\n",
      "\n",
      "[INFO 01-07 02:08:30] Scheduler: Running trials [2]...\n",
      "/home/jbris/.cache/pypoetry/virtualenvs/aws-botorch-torchx-087hCjDl-py3.10/lib/python3.10/site-packages/ax/modelbridge/cross_validation.py:463: UserWarning:\n",
      "\n",
      "Encountered exception in computing model fit quality: RandomModelBridge does not support prediction.\n",
      "\n",
      "[INFO 01-07 02:08:31] Scheduler: Running trials [3]...\n",
      "[INFO 01-07 02:08:32] Scheduler: Fetching data for newly completed trials: [].\n",
      "[INFO 01-07 02:08:32] Scheduler: Waiting for completed trials (for 1 sec, currently running trials: 4).\n",
      "[INFO 01-07 02:08:33] Scheduler: Fetching data for newly completed trials: [].\n",
      "[INFO 01-07 02:08:33] Scheduler: Waiting for completed trials (for 1.5 sec, currently running trials: 4).\n",
      "[INFO 01-07 02:08:34] Scheduler: Fetching data for newly completed trials: [].\n",
      "[INFO 01-07 02:08:34] Scheduler: Waiting for completed trials (for 2 sec, currently running trials: 4).\n",
      "[INFO 01-07 02:08:37] Scheduler: Fetching data for newly completed trials: [].\n",
      "[INFO 01-07 02:08:37] Scheduler: Waiting for completed trials (for 3 sec, currently running trials: 4).\n",
      "[INFO 01-07 02:08:40] Scheduler: Fetching data for newly completed trials: [].\n",
      "[INFO 01-07 02:08:40] Scheduler: Waiting for completed trials (for 5 sec, currently running trials: 4).\n",
      "[INFO 01-07 02:08:45] Scheduler: Fetching data for newly completed trials: [].\n",
      "[INFO 01-07 02:08:45] Scheduler: Waiting for completed trials (for 7 sec, currently running trials: 4).\n",
      "[INFO 01-07 02:08:53] Scheduler: Fetching data for newly completed trials: [].\n",
      "[INFO 01-07 02:08:53] Scheduler: Waiting for completed trials (for 11 sec, currently running trials: 4).\n",
      "[INFO 01-07 02:09:04] Scheduler: Fetching data for newly completed trials: [].\n",
      "[INFO 01-07 02:09:04] Scheduler: Waiting for completed trials (for 17 sec, currently running trials: 4).\n",
      "[INFO 01-07 02:09:21] Scheduler: Fetching data for newly completed trials: [].\n",
      "[INFO 01-07 02:09:21] Scheduler: Waiting for completed trials (for 25 sec, currently running trials: 4).\n",
      "[INFO 01-07 02:09:47] Scheduler: Fetching data for newly completed trials: [1, 3].\n",
      "[INFO 01-07 02:09:47] Scheduler: Retrieved COMPLETED trials: [1, 3].\n",
      "/home/jbris/.cache/pypoetry/virtualenvs/aws-botorch-torchx-087hCjDl-py3.10/lib/python3.10/site-packages/ax/core/map_data.py:195: FutureWarning:\n",
      "\n",
      "The behavior of DataFrame concatenation with empty or all-NA entries is deprecated. In a future version, this will no longer exclude empty or all-NA columns when determining the result dtypes. To retain the old behavior, exclude the relevant entries before the concat operation.\n",
      "\n",
      "/home/jbris/.cache/pypoetry/virtualenvs/aws-botorch-torchx-087hCjDl-py3.10/lib/python3.10/site-packages/ax/core/map_data.py:195: FutureWarning:\n",
      "\n",
      "The behavior of DataFrame concatenation with empty or all-NA entries is deprecated. In a future version, this will no longer exclude empty or all-NA columns when determining the result dtypes. To retain the old behavior, exclude the relevant entries before the concat operation.\n",
      "\n",
      "/home/jbris/.cache/pypoetry/virtualenvs/aws-botorch-torchx-087hCjDl-py3.10/lib/python3.10/site-packages/ax/modelbridge/cross_validation.py:463: UserWarning:\n",
      "\n",
      "Encountered exception in computing model fit quality: RandomModelBridge does not support prediction.\n",
      "\n",
      "[INFO 01-07 02:09:47] Scheduler: Running trials [4]...\n",
      "[INFO 01-07 02:09:48] Scheduler: Fetching data for newly completed trials: [].\n",
      "[INFO 01-07 02:09:48] Scheduler: Waiting for completed trials (for 1 sec, currently running trials: 3).\n",
      "[INFO 01-07 02:09:49] Scheduler: Fetching data for newly completed trials: [].\n",
      "[INFO 01-07 02:09:49] Scheduler: Waiting for completed trials (for 1.5 sec, currently running trials: 3).\n",
      "[INFO 01-07 02:09:51] Scheduler: Fetching data for newly completed trials: [0].\n",
      "[INFO 01-07 02:09:51] Scheduler: Retrieved COMPLETED trials: [0].\n",
      "/home/jbris/.cache/pypoetry/virtualenvs/aws-botorch-torchx-087hCjDl-py3.10/lib/python3.10/site-packages/ax/core/map_data.py:195: FutureWarning:\n",
      "\n",
      "The behavior of DataFrame concatenation with empty or all-NA entries is deprecated. In a future version, this will no longer exclude empty or all-NA columns when determining the result dtypes. To retain the old behavior, exclude the relevant entries before the concat operation.\n",
      "\n",
      "[INFO 01-07 02:09:51] Scheduler: Done submitting trials, waiting for remaining 2 running trials...\n",
      "[INFO 01-07 02:09:51] Scheduler: Fetching data for newly completed trials: [].\n",
      "[INFO 01-07 02:09:51] Scheduler: Waiting for completed trials (for 1 sec, currently running trials: 2).\n",
      "[INFO 01-07 02:09:52] Scheduler: Fetching data for newly completed trials: [].\n",
      "[INFO 01-07 02:09:52] Scheduler: Waiting for completed trials (for 1.5 sec, currently running trials: 2).\n",
      "[INFO 01-07 02:09:53] Scheduler: Fetching data for newly completed trials: [].\n",
      "[INFO 01-07 02:09:53] Scheduler: Waiting for completed trials (for 2 sec, currently running trials: 2).\n",
      "[INFO 01-07 02:09:55] Scheduler: Fetching data for newly completed trials: [].\n",
      "[INFO 01-07 02:09:55] Scheduler: Waiting for completed trials (for 3 sec, currently running trials: 2).\n",
      "[INFO 01-07 02:09:59] Scheduler: Fetching data for newly completed trials: [].\n",
      "[INFO 01-07 02:09:59] Scheduler: Waiting for completed trials (for 5 sec, currently running trials: 2).\n",
      "[INFO 01-07 02:10:04] Scheduler: Fetching data for newly completed trials: [].\n",
      "[INFO 01-07 02:10:04] Scheduler: Waiting for completed trials (for 7 sec, currently running trials: 2).\n",
      "[INFO 01-07 02:10:11] Scheduler: Fetching data for newly completed trials: [].\n",
      "[INFO 01-07 02:10:11] Scheduler: Waiting for completed trials (for 11 sec, currently running trials: 2).\n",
      "[INFO 01-07 02:10:23] Scheduler: Fetching data for newly completed trials: [2, 4].\n",
      "[INFO 01-07 02:10:23] Scheduler: Retrieved COMPLETED trials: [2, 4].\n",
      "/home/jbris/.cache/pypoetry/virtualenvs/aws-botorch-torchx-087hCjDl-py3.10/lib/python3.10/site-packages/ax/core/map_data.py:195: FutureWarning:\n",
      "\n",
      "The behavior of DataFrame concatenation with empty or all-NA entries is deprecated. In a future version, this will no longer exclude empty or all-NA columns when determining the result dtypes. To retain the old behavior, exclude the relevant entries before the concat operation.\n",
      "\n"
     ]
    },
    {
     "data": {
      "text/plain": [
       "OptimizationResult()"
      ]
     },
     "execution_count": 84,
     "metadata": {},
     "output_type": "execute_result"
    }
   ],
   "source": [
    "from ax.core import MultiObjective, Objective, ObjectiveThreshold\n",
    "from ax.core.optimization_config import MultiObjectiveOptimizationConfig\n",
    "\n",
    "\n",
    "opt_config = MultiObjectiveOptimizationConfig(\n",
    "    objective=MultiObjective(\n",
    "        objectives=[\n",
    "            Objective(metric=val_acc, minimize=False),\n",
    "            Objective(metric=model_num_params, minimize=True),\n",
    "        ],\n",
    "    ),\n",
    "    objective_thresholds=[\n",
    "        ObjectiveThreshold(metric=val_acc, bound=0.94, relative=False),\n",
    "        ObjectiveThreshold(metric=model_num_params, bound=80_000, relative=False),\n",
    "    ],\n",
    ")\n",
    "\n",
    "from ax.core import Experiment\n",
    "\n",
    "experiment = Experiment(\n",
    "    name=\"torchx_mnist\",\n",
    "    search_space=search_space,\n",
    "    optimization_config=opt_config,\n",
    "    runner=ax_runner,\n",
    ")\n",
    "\n",
    "total_trials = 48  # total evaluation budget\n",
    "\n",
    "from ax.modelbridge.dispatch_utils import choose_generation_strategy\n",
    "\n",
    "gs = choose_generation_strategy(\n",
    "    search_space=experiment.search_space,\n",
    "    optimization_config=experiment.optimization_config,\n",
    "    num_trials=total_trials,\n",
    "  )\n",
    "\n",
    "from ax.service.scheduler import Scheduler, SchedulerOptions\n",
    "\n",
    "scheduler = Scheduler(\n",
    "    experiment=experiment,\n",
    "    generation_strategy=gs,\n",
    "    options=SchedulerOptions(\n",
    "        total_trials=total_trials, max_pending_trials=4\n",
    "    ),\n",
    ")\n",
    "\n",
    "scheduler.run_n_trials(5)"
   ]
  },
  {
   "cell_type": "code",
   "execution_count": 85,
   "id": "47f0fbd4-27d2-4b75-b260-2c5ca855d228",
   "metadata": {},
   "outputs": [
    {
     "name": "stderr",
     "output_type": "stream",
     "text": [
      "/home/jbris/.cache/pypoetry/virtualenvs/aws-botorch-torchx-087hCjDl-py3.10/lib/python3.10/site-packages/ax/core/map_data.py:195: FutureWarning:\n",
      "\n",
      "The behavior of DataFrame concatenation with empty or all-NA entries is deprecated. In a future version, this will no longer exclude empty or all-NA columns when determining the result dtypes. To retain the old behavior, exclude the relevant entries before the concat operation.\n",
      "\n",
      "[WARNING 01-07 02:10:23] ax.service.utils.report_utils: Column reason missing for all trials. Not appending column.\n"
     ]
    },
    {
     "data": {
      "text/html": [
       "<div>\n",
       "<style scoped>\n",
       "    .dataframe tbody tr th:only-of-type {\n",
       "        vertical-align: middle;\n",
       "    }\n",
       "\n",
       "    .dataframe tbody tr th {\n",
       "        vertical-align: top;\n",
       "    }\n",
       "\n",
       "    .dataframe thead th {\n",
       "        text-align: right;\n",
       "    }\n",
       "</style>\n",
       "<table border=\"1\" class=\"dataframe\">\n",
       "  <thead>\n",
       "    <tr style=\"text-align: right;\">\n",
       "      <th></th>\n",
       "      <th>trial_index</th>\n",
       "      <th>arm_name</th>\n",
       "      <th>trial_status</th>\n",
       "      <th>generation_method</th>\n",
       "      <th>is_feasible</th>\n",
       "      <th>num_params</th>\n",
       "      <th>val_acc</th>\n",
       "      <th>hidden_size_1</th>\n",
       "      <th>hidden_size_2</th>\n",
       "      <th>learning_rate</th>\n",
       "      <th>epochs</th>\n",
       "      <th>dropout</th>\n",
       "      <th>batch_size</th>\n",
       "    </tr>\n",
       "  </thead>\n",
       "  <tbody>\n",
       "    <tr>\n",
       "      <th>0</th>\n",
       "      <td>0</td>\n",
       "      <td>0_0</td>\n",
       "      <td>COMPLETED</td>\n",
       "      <td>Sobol</td>\n",
       "      <td>False</td>\n",
       "      <td>51630.5</td>\n",
       "      <td>0.930153</td>\n",
       "      <td>24</td>\n",
       "      <td>55</td>\n",
       "      <td>0.000283</td>\n",
       "      <td>4</td>\n",
       "      <td>0.223872</td>\n",
       "      <td>256</td>\n",
       "    </tr>\n",
       "    <tr>\n",
       "      <th>1</th>\n",
       "      <td>1</td>\n",
       "      <td>1_0</td>\n",
       "      <td>COMPLETED</td>\n",
       "      <td>Sobol</td>\n",
       "      <td>False</td>\n",
       "      <td>81540.0</td>\n",
       "      <td>0.951953</td>\n",
       "      <td>99</td>\n",
       "      <td>36</td>\n",
       "      <td>0.002042</td>\n",
       "      <td>2</td>\n",
       "      <td>0.346836</td>\n",
       "      <td>64</td>\n",
       "    </tr>\n",
       "    <tr>\n",
       "      <th>2</th>\n",
       "      <td>2</td>\n",
       "      <td>2_0</td>\n",
       "      <td>COMPLETED</td>\n",
       "      <td>Sobol</td>\n",
       "      <td>True</td>\n",
       "      <td>64812.0</td>\n",
       "      <td>0.949193</td>\n",
       "      <td>72</td>\n",
       "      <td>102</td>\n",
       "      <td>0.000512</td>\n",
       "      <td>3</td>\n",
       "      <td>0.406327</td>\n",
       "      <td>32</td>\n",
       "    </tr>\n",
       "    <tr>\n",
       "      <th>3</th>\n",
       "      <td>3</td>\n",
       "      <td>3_0</td>\n",
       "      <td>COMPLETED</td>\n",
       "      <td>Sobol</td>\n",
       "      <td>True</td>\n",
       "      <td>30704.0</td>\n",
       "      <td>0.940087</td>\n",
       "      <td>38</td>\n",
       "      <td>19</td>\n",
       "      <td>0.003452</td>\n",
       "      <td>1</td>\n",
       "      <td>0.037118</td>\n",
       "      <td>128</td>\n",
       "    </tr>\n",
       "    <tr>\n",
       "      <th>4</th>\n",
       "      <td>4</td>\n",
       "      <td>4_0</td>\n",
       "      <td>COMPLETED</td>\n",
       "      <td>Sobol</td>\n",
       "      <td>False</td>\n",
       "      <td>26363.0</td>\n",
       "      <td>0.921504</td>\n",
       "      <td>29</td>\n",
       "      <td>93</td>\n",
       "      <td>0.001170</td>\n",
       "      <td>1</td>\n",
       "      <td>0.103638</td>\n",
       "      <td>256</td>\n",
       "    </tr>\n",
       "  </tbody>\n",
       "</table>\n",
       "</div>"
      ],
      "text/plain": [
       "   trial_index arm_name trial_status generation_method  is_feasible  \\\n",
       "0            0      0_0    COMPLETED             Sobol        False   \n",
       "1            1      1_0    COMPLETED             Sobol        False   \n",
       "2            2      2_0    COMPLETED             Sobol         True   \n",
       "3            3      3_0    COMPLETED             Sobol         True   \n",
       "4            4      4_0    COMPLETED             Sobol        False   \n",
       "\n",
       "   num_params   val_acc  hidden_size_1  hidden_size_2  learning_rate  epochs  \\\n",
       "0     51630.5  0.930153             24             55       0.000283       4   \n",
       "1     81540.0  0.951953             99             36       0.002042       2   \n",
       "2     64812.0  0.949193             72            102       0.000512       3   \n",
       "3     30704.0  0.940087             38             19       0.003452       1   \n",
       "4     26363.0  0.921504             29             93       0.001170       1   \n",
       "\n",
       "    dropout  batch_size  \n",
       "0  0.223872         256  \n",
       "1  0.346836          64  \n",
       "2  0.406327          32  \n",
       "3  0.037118         128  \n",
       "4  0.103638         256  "
      ]
     },
     "execution_count": 85,
     "metadata": {},
     "output_type": "execute_result"
    }
   ],
   "source": [
    "\n",
    "from ax.service.utils.report_utils import exp_to_df\n",
    "\n",
    "df = exp_to_df(experiment)\n",
    "df.head(10)\n",
    "\n"
   ]
  },
  {
   "cell_type": "code",
   "execution_count": 86,
   "id": "9cee76bd-3648-4e06-986e-b20aef222cc8",
   "metadata": {},
   "outputs": [
    {
     "name": "stderr",
     "output_type": "stream",
     "text": [
      "/home/jbris/.cache/pypoetry/virtualenvs/aws-botorch-torchx-087hCjDl-py3.10/lib/python3.10/site-packages/ax/core/map_data.py:195: FutureWarning:\n",
      "\n",
      "The behavior of DataFrame concatenation with empty or all-NA entries is deprecated. In a future version, this will no longer exclude empty or all-NA columns when determining the result dtypes. To retain the old behavior, exclude the relevant entries before the concat operation.\n",
      "\n",
      "[WARNING 01-07 02:10:23] ax.service.utils.report_utils: Column reason missing for all trials. Not appending column.\n"
     ]
    },
    {
     "data": {
      "application/vnd.plotly.v1+json": {
       "config": {
        "plotlyServerURL": "https://plot.ly"
       },
       "data": [
        {
         "line": {
          "shape": "hv"
         },
         "marker": {
          "color": "rgba(128,177,211,1)"
         },
         "mode": "lines",
         "type": "scatter",
         "x": [
          0.9491930603981018,
          0.9491930603981018,
          0.9400865435600281,
          0.94
         ],
         "y": [
          80000,
          64812,
          30704,
          30704
         ]
        },
        {
         "marker": {
          "color": "rgba(128,177,211,1)"
         },
         "mode": "lines",
         "type": "scatter",
         "x": [
          0.9491930603981018,
          0.94
         ],
         "y": [
          80000,
          80000
         ]
        },
        {
         "marker": {
          "color": "rgba(128,177,211,1)"
         },
         "mode": "lines",
         "type": "scatter",
         "x": [
          0.94,
          0.94
         ],
         "y": [
          30704,
          80000
         ]
        },
        {
         "hovertemplate": "%{text}",
         "marker": {
          "color": [
           0,
           25,
           50,
           75,
           100
          ],
          "colorbar": {
           "ticktext": [
            1,
            "iteration",
            5
           ],
           "tickvals": [
            0,
            50,
            100
           ]
          },
          "colorscale": [
           [
            0,
            "#000004"
           ],
           [
            0.1111111111111111,
            "#180f3d"
           ],
           [
            0.2222222222222222,
            "#440f76"
           ],
           [
            0.3333333333333333,
            "#721f81"
           ],
           [
            0.4444444444444444,
            "#9e2f7f"
           ],
           [
            0.5555555555555556,
            "#cd4071"
           ],
           [
            0.6666666666666666,
            "#f1605d"
           ],
           [
            0.7777777777777778,
            "#fd9668"
           ],
           [
            0.8888888888888888,
            "#feca8d"
           ],
           [
            1,
            "#fcfdbf"
           ]
          ]
         },
         "mode": "markers",
         "name": "Experimental points",
         "text": [
          "Arm name: 0_0",
          "Arm name: 1_0",
          "Arm name: 2_0",
          "Arm name: 3_0",
          "Arm name: 4_0"
         ],
         "type": "scatter",
         "x": [
          0.9301530718803406,
          0.9519532322883606,
          0.9491930603981018,
          0.9400865435600281,
          0.9215035438537598
         ],
         "y": [
          51630.5,
          81540,
          64812,
          30704,
          26363
         ]
        },
        {
         "marker": {
          "color": "rgba(128,177,211,1)",
          "size": 25,
          "symbol": "star"
         },
         "mode": "markers",
         "type": "scatter",
         "x": [
          0.94
         ],
         "y": [
          80000
         ]
        }
       ],
       "layout": {
        "showlegend": false,
        "template": {
         "data": {
          "bar": [
           {
            "error_x": {
             "color": "#2a3f5f"
            },
            "error_y": {
             "color": "#2a3f5f"
            },
            "marker": {
             "line": {
              "color": "#E5ECF6",
              "width": 0.5
             },
             "pattern": {
              "fillmode": "overlay",
              "size": 10,
              "solidity": 0.2
             }
            },
            "type": "bar"
           }
          ],
          "barpolar": [
           {
            "marker": {
             "line": {
              "color": "#E5ECF6",
              "width": 0.5
             },
             "pattern": {
              "fillmode": "overlay",
              "size": 10,
              "solidity": 0.2
             }
            },
            "type": "barpolar"
           }
          ],
          "carpet": [
           {
            "aaxis": {
             "endlinecolor": "#2a3f5f",
             "gridcolor": "white",
             "linecolor": "white",
             "minorgridcolor": "white",
             "startlinecolor": "#2a3f5f"
            },
            "baxis": {
             "endlinecolor": "#2a3f5f",
             "gridcolor": "white",
             "linecolor": "white",
             "minorgridcolor": "white",
             "startlinecolor": "#2a3f5f"
            },
            "type": "carpet"
           }
          ],
          "choropleth": [
           {
            "colorbar": {
             "outlinewidth": 0,
             "ticks": ""
            },
            "type": "choropleth"
           }
          ],
          "contour": [
           {
            "colorbar": {
             "outlinewidth": 0,
             "ticks": ""
            },
            "colorscale": [
             [
              0,
              "#0d0887"
             ],
             [
              0.1111111111111111,
              "#46039f"
             ],
             [
              0.2222222222222222,
              "#7201a8"
             ],
             [
              0.3333333333333333,
              "#9c179e"
             ],
             [
              0.4444444444444444,
              "#bd3786"
             ],
             [
              0.5555555555555556,
              "#d8576b"
             ],
             [
              0.6666666666666666,
              "#ed7953"
             ],
             [
              0.7777777777777778,
              "#fb9f3a"
             ],
             [
              0.8888888888888888,
              "#fdca26"
             ],
             [
              1,
              "#f0f921"
             ]
            ],
            "type": "contour"
           }
          ],
          "contourcarpet": [
           {
            "colorbar": {
             "outlinewidth": 0,
             "ticks": ""
            },
            "type": "contourcarpet"
           }
          ],
          "heatmap": [
           {
            "colorbar": {
             "outlinewidth": 0,
             "ticks": ""
            },
            "colorscale": [
             [
              0,
              "#0d0887"
             ],
             [
              0.1111111111111111,
              "#46039f"
             ],
             [
              0.2222222222222222,
              "#7201a8"
             ],
             [
              0.3333333333333333,
              "#9c179e"
             ],
             [
              0.4444444444444444,
              "#bd3786"
             ],
             [
              0.5555555555555556,
              "#d8576b"
             ],
             [
              0.6666666666666666,
              "#ed7953"
             ],
             [
              0.7777777777777778,
              "#fb9f3a"
             ],
             [
              0.8888888888888888,
              "#fdca26"
             ],
             [
              1,
              "#f0f921"
             ]
            ],
            "type": "heatmap"
           }
          ],
          "heatmapgl": [
           {
            "colorbar": {
             "outlinewidth": 0,
             "ticks": ""
            },
            "colorscale": [
             [
              0,
              "#0d0887"
             ],
             [
              0.1111111111111111,
              "#46039f"
             ],
             [
              0.2222222222222222,
              "#7201a8"
             ],
             [
              0.3333333333333333,
              "#9c179e"
             ],
             [
              0.4444444444444444,
              "#bd3786"
             ],
             [
              0.5555555555555556,
              "#d8576b"
             ],
             [
              0.6666666666666666,
              "#ed7953"
             ],
             [
              0.7777777777777778,
              "#fb9f3a"
             ],
             [
              0.8888888888888888,
              "#fdca26"
             ],
             [
              1,
              "#f0f921"
             ]
            ],
            "type": "heatmapgl"
           }
          ],
          "histogram": [
           {
            "marker": {
             "pattern": {
              "fillmode": "overlay",
              "size": 10,
              "solidity": 0.2
             }
            },
            "type": "histogram"
           }
          ],
          "histogram2d": [
           {
            "colorbar": {
             "outlinewidth": 0,
             "ticks": ""
            },
            "colorscale": [
             [
              0,
              "#0d0887"
             ],
             [
              0.1111111111111111,
              "#46039f"
             ],
             [
              0.2222222222222222,
              "#7201a8"
             ],
             [
              0.3333333333333333,
              "#9c179e"
             ],
             [
              0.4444444444444444,
              "#bd3786"
             ],
             [
              0.5555555555555556,
              "#d8576b"
             ],
             [
              0.6666666666666666,
              "#ed7953"
             ],
             [
              0.7777777777777778,
              "#fb9f3a"
             ],
             [
              0.8888888888888888,
              "#fdca26"
             ],
             [
              1,
              "#f0f921"
             ]
            ],
            "type": "histogram2d"
           }
          ],
          "histogram2dcontour": [
           {
            "colorbar": {
             "outlinewidth": 0,
             "ticks": ""
            },
            "colorscale": [
             [
              0,
              "#0d0887"
             ],
             [
              0.1111111111111111,
              "#46039f"
             ],
             [
              0.2222222222222222,
              "#7201a8"
             ],
             [
              0.3333333333333333,
              "#9c179e"
             ],
             [
              0.4444444444444444,
              "#bd3786"
             ],
             [
              0.5555555555555556,
              "#d8576b"
             ],
             [
              0.6666666666666666,
              "#ed7953"
             ],
             [
              0.7777777777777778,
              "#fb9f3a"
             ],
             [
              0.8888888888888888,
              "#fdca26"
             ],
             [
              1,
              "#f0f921"
             ]
            ],
            "type": "histogram2dcontour"
           }
          ],
          "mesh3d": [
           {
            "colorbar": {
             "outlinewidth": 0,
             "ticks": ""
            },
            "type": "mesh3d"
           }
          ],
          "parcoords": [
           {
            "line": {
             "colorbar": {
              "outlinewidth": 0,
              "ticks": ""
             }
            },
            "type": "parcoords"
           }
          ],
          "pie": [
           {
            "automargin": true,
            "type": "pie"
           }
          ],
          "scatter": [
           {
            "fillpattern": {
             "fillmode": "overlay",
             "size": 10,
             "solidity": 0.2
            },
            "type": "scatter"
           }
          ],
          "scatter3d": [
           {
            "line": {
             "colorbar": {
              "outlinewidth": 0,
              "ticks": ""
             }
            },
            "marker": {
             "colorbar": {
              "outlinewidth": 0,
              "ticks": ""
             }
            },
            "type": "scatter3d"
           }
          ],
          "scattercarpet": [
           {
            "marker": {
             "colorbar": {
              "outlinewidth": 0,
              "ticks": ""
             }
            },
            "type": "scattercarpet"
           }
          ],
          "scattergeo": [
           {
            "marker": {
             "colorbar": {
              "outlinewidth": 0,
              "ticks": ""
             }
            },
            "type": "scattergeo"
           }
          ],
          "scattergl": [
           {
            "marker": {
             "colorbar": {
              "outlinewidth": 0,
              "ticks": ""
             }
            },
            "type": "scattergl"
           }
          ],
          "scattermapbox": [
           {
            "marker": {
             "colorbar": {
              "outlinewidth": 0,
              "ticks": ""
             }
            },
            "type": "scattermapbox"
           }
          ],
          "scatterpolar": [
           {
            "marker": {
             "colorbar": {
              "outlinewidth": 0,
              "ticks": ""
             }
            },
            "type": "scatterpolar"
           }
          ],
          "scatterpolargl": [
           {
            "marker": {
             "colorbar": {
              "outlinewidth": 0,
              "ticks": ""
             }
            },
            "type": "scatterpolargl"
           }
          ],
          "scatterternary": [
           {
            "marker": {
             "colorbar": {
              "outlinewidth": 0,
              "ticks": ""
             }
            },
            "type": "scatterternary"
           }
          ],
          "surface": [
           {
            "colorbar": {
             "outlinewidth": 0,
             "ticks": ""
            },
            "colorscale": [
             [
              0,
              "#0d0887"
             ],
             [
              0.1111111111111111,
              "#46039f"
             ],
             [
              0.2222222222222222,
              "#7201a8"
             ],
             [
              0.3333333333333333,
              "#9c179e"
             ],
             [
              0.4444444444444444,
              "#bd3786"
             ],
             [
              0.5555555555555556,
              "#d8576b"
             ],
             [
              0.6666666666666666,
              "#ed7953"
             ],
             [
              0.7777777777777778,
              "#fb9f3a"
             ],
             [
              0.8888888888888888,
              "#fdca26"
             ],
             [
              1,
              "#f0f921"
             ]
            ],
            "type": "surface"
           }
          ],
          "table": [
           {
            "cells": {
             "fill": {
              "color": "#EBF0F8"
             },
             "line": {
              "color": "white"
             }
            },
            "header": {
             "fill": {
              "color": "#C8D4E3"
             },
             "line": {
              "color": "white"
             }
            },
            "type": "table"
           }
          ]
         },
         "layout": {
          "annotationdefaults": {
           "arrowcolor": "#2a3f5f",
           "arrowhead": 0,
           "arrowwidth": 1
          },
          "autotypenumbers": "strict",
          "coloraxis": {
           "colorbar": {
            "outlinewidth": 0,
            "ticks": ""
           }
          },
          "colorscale": {
           "diverging": [
            [
             0,
             "#8e0152"
            ],
            [
             0.1,
             "#c51b7d"
            ],
            [
             0.2,
             "#de77ae"
            ],
            [
             0.3,
             "#f1b6da"
            ],
            [
             0.4,
             "#fde0ef"
            ],
            [
             0.5,
             "#f7f7f7"
            ],
            [
             0.6,
             "#e6f5d0"
            ],
            [
             0.7,
             "#b8e186"
            ],
            [
             0.8,
             "#7fbc41"
            ],
            [
             0.9,
             "#4d9221"
            ],
            [
             1,
             "#276419"
            ]
           ],
           "sequential": [
            [
             0,
             "#0d0887"
            ],
            [
             0.1111111111111111,
             "#46039f"
            ],
            [
             0.2222222222222222,
             "#7201a8"
            ],
            [
             0.3333333333333333,
             "#9c179e"
            ],
            [
             0.4444444444444444,
             "#bd3786"
            ],
            [
             0.5555555555555556,
             "#d8576b"
            ],
            [
             0.6666666666666666,
             "#ed7953"
            ],
            [
             0.7777777777777778,
             "#fb9f3a"
            ],
            [
             0.8888888888888888,
             "#fdca26"
            ],
            [
             1,
             "#f0f921"
            ]
           ],
           "sequentialminus": [
            [
             0,
             "#0d0887"
            ],
            [
             0.1111111111111111,
             "#46039f"
            ],
            [
             0.2222222222222222,
             "#7201a8"
            ],
            [
             0.3333333333333333,
             "#9c179e"
            ],
            [
             0.4444444444444444,
             "#bd3786"
            ],
            [
             0.5555555555555556,
             "#d8576b"
            ],
            [
             0.6666666666666666,
             "#ed7953"
            ],
            [
             0.7777777777777778,
             "#fb9f3a"
            ],
            [
             0.8888888888888888,
             "#fdca26"
            ],
            [
             1,
             "#f0f921"
            ]
           ]
          },
          "colorway": [
           "#636efa",
           "#EF553B",
           "#00cc96",
           "#ab63fa",
           "#FFA15A",
           "#19d3f3",
           "#FF6692",
           "#B6E880",
           "#FF97FF",
           "#FECB52"
          ],
          "font": {
           "color": "#2a3f5f"
          },
          "geo": {
           "bgcolor": "white",
           "lakecolor": "white",
           "landcolor": "#E5ECF6",
           "showlakes": true,
           "showland": true,
           "subunitcolor": "white"
          },
          "hoverlabel": {
           "align": "left"
          },
          "hovermode": "closest",
          "mapbox": {
           "style": "light"
          },
          "paper_bgcolor": "white",
          "plot_bgcolor": "#E5ECF6",
          "polar": {
           "angularaxis": {
            "gridcolor": "white",
            "linecolor": "white",
            "ticks": ""
           },
           "bgcolor": "#E5ECF6",
           "radialaxis": {
            "gridcolor": "white",
            "linecolor": "white",
            "ticks": ""
           }
          },
          "scene": {
           "xaxis": {
            "backgroundcolor": "#E5ECF6",
            "gridcolor": "white",
            "gridwidth": 2,
            "linecolor": "white",
            "showbackground": true,
            "ticks": "",
            "zerolinecolor": "white"
           },
           "yaxis": {
            "backgroundcolor": "#E5ECF6",
            "gridcolor": "white",
            "gridwidth": 2,
            "linecolor": "white",
            "showbackground": true,
            "ticks": "",
            "zerolinecolor": "white"
           },
           "zaxis": {
            "backgroundcolor": "#E5ECF6",
            "gridcolor": "white",
            "gridwidth": 2,
            "linecolor": "white",
            "showbackground": true,
            "ticks": "",
            "zerolinecolor": "white"
           }
          },
          "shapedefaults": {
           "line": {
            "color": "#2a3f5f"
           }
          },
          "ternary": {
           "aaxis": {
            "gridcolor": "white",
            "linecolor": "white",
            "ticks": ""
           },
           "baxis": {
            "gridcolor": "white",
            "linecolor": "white",
            "ticks": ""
           },
           "bgcolor": "#E5ECF6",
           "caxis": {
            "gridcolor": "white",
            "linecolor": "white",
            "ticks": ""
           }
          },
          "title": {
           "x": 0.05
          },
          "xaxis": {
           "automargin": true,
           "gridcolor": "white",
           "linecolor": "white",
           "ticks": "",
           "title": {
            "standoff": 15
           },
           "zerolinecolor": "white",
           "zerolinewidth": 2
          },
          "yaxis": {
           "automargin": true,
           "gridcolor": "white",
           "linecolor": "white",
           "ticks": "",
           "title": {
            "standoff": 15
           },
           "zerolinecolor": "white",
           "zerolinewidth": 2
          }
         }
        },
        "title": {
         "text": "Observed metric values with Pareto frontier"
        },
        "xaxis": {
         "range": [
          0.9390806939601898,
          0.950112366437912
         ],
         "title": {
          "text": "val_acc"
         }
        },
        "yaxis": {
         "range": [
          25774.4,
          84929.6
         ],
         "title": {
          "text": "num_params"
         }
        }
       }
      },
      "text/html": [
       "<div>                            <div id=\"93f8c941-ee42-4a4b-915f-1a1acdc0c469\" class=\"plotly-graph-div\" style=\"height:525px; width:100%;\"></div>            <script type=\"text/javascript\">                require([\"plotly\"], function(Plotly) {                    window.PLOTLYENV=window.PLOTLYENV || {};                                    if (document.getElementById(\"93f8c941-ee42-4a4b-915f-1a1acdc0c469\")) {                    Plotly.newPlot(                        \"93f8c941-ee42-4a4b-915f-1a1acdc0c469\",                        [{\"line\":{\"shape\":\"hv\"},\"marker\":{\"color\":\"rgba(128,177,211,1)\"},\"mode\":\"lines\",\"x\":[0.9491930603981018,0.9491930603981018,0.9400865435600281,0.94],\"y\":[80000.0,64812.0,30704.0,30704.0],\"type\":\"scatter\"},{\"marker\":{\"color\":\"rgba(128,177,211,1)\"},\"mode\":\"lines\",\"x\":[0.9491930603981018,0.94],\"y\":[80000,80000],\"type\":\"scatter\"},{\"marker\":{\"color\":\"rgba(128,177,211,1)\"},\"mode\":\"lines\",\"x\":[0.94,0.94],\"y\":[30704.0,80000],\"type\":\"scatter\"},{\"hovertemplate\":\"%{text}\",\"marker\":{\"color\":[0.0,25.0,50.0,75.0,100.0],\"colorbar\":{\"ticktext\":[1,\"iteration\",5],\"tickvals\":[0,50,100]},\"colorscale\":[[0.0,\"#000004\"],[0.1111111111111111,\"#180f3d\"],[0.2222222222222222,\"#440f76\"],[0.3333333333333333,\"#721f81\"],[0.4444444444444444,\"#9e2f7f\"],[0.5555555555555556,\"#cd4071\"],[0.6666666666666666,\"#f1605d\"],[0.7777777777777778,\"#fd9668\"],[0.8888888888888888,\"#feca8d\"],[1.0,\"#fcfdbf\"]]},\"mode\":\"markers\",\"name\":\"Experimental points\",\"text\":[\"Arm name: 0_0\",\"Arm name: 1_0\",\"Arm name: 2_0\",\"Arm name: 3_0\",\"Arm name: 4_0\"],\"x\":[0.9301530718803406,0.9519532322883606,0.9491930603981018,0.9400865435600281,0.9215035438537598],\"y\":[51630.5,81540.0,64812.0,30704.0,26363.0],\"type\":\"scatter\"},{\"marker\":{\"color\":\"rgba(128,177,211,1)\",\"size\":25,\"symbol\":\"star\"},\"mode\":\"markers\",\"x\":[0.94],\"y\":[80000],\"type\":\"scatter\"}],                        {\"showlegend\":false,\"title\":{\"text\":\"Observed metric values with Pareto frontier\"},\"xaxis\":{\"range\":[0.9390806939601898,0.950112366437912],\"title\":{\"text\":\"val_acc\"}},\"yaxis\":{\"range\":[25774.4,84929.6],\"title\":{\"text\":\"num_params\"}},\"template\":{\"data\":{\"histogram2dcontour\":[{\"type\":\"histogram2dcontour\",\"colorbar\":{\"outlinewidth\":0,\"ticks\":\"\"},\"colorscale\":[[0.0,\"#0d0887\"],[0.1111111111111111,\"#46039f\"],[0.2222222222222222,\"#7201a8\"],[0.3333333333333333,\"#9c179e\"],[0.4444444444444444,\"#bd3786\"],[0.5555555555555556,\"#d8576b\"],[0.6666666666666666,\"#ed7953\"],[0.7777777777777778,\"#fb9f3a\"],[0.8888888888888888,\"#fdca26\"],[1.0,\"#f0f921\"]]}],\"choropleth\":[{\"type\":\"choropleth\",\"colorbar\":{\"outlinewidth\":0,\"ticks\":\"\"}}],\"histogram2d\":[{\"type\":\"histogram2d\",\"colorbar\":{\"outlinewidth\":0,\"ticks\":\"\"},\"colorscale\":[[0.0,\"#0d0887\"],[0.1111111111111111,\"#46039f\"],[0.2222222222222222,\"#7201a8\"],[0.3333333333333333,\"#9c179e\"],[0.4444444444444444,\"#bd3786\"],[0.5555555555555556,\"#d8576b\"],[0.6666666666666666,\"#ed7953\"],[0.7777777777777778,\"#fb9f3a\"],[0.8888888888888888,\"#fdca26\"],[1.0,\"#f0f921\"]]}],\"heatmap\":[{\"type\":\"heatmap\",\"colorbar\":{\"outlinewidth\":0,\"ticks\":\"\"},\"colorscale\":[[0.0,\"#0d0887\"],[0.1111111111111111,\"#46039f\"],[0.2222222222222222,\"#7201a8\"],[0.3333333333333333,\"#9c179e\"],[0.4444444444444444,\"#bd3786\"],[0.5555555555555556,\"#d8576b\"],[0.6666666666666666,\"#ed7953\"],[0.7777777777777778,\"#fb9f3a\"],[0.8888888888888888,\"#fdca26\"],[1.0,\"#f0f921\"]]}],\"heatmapgl\":[{\"type\":\"heatmapgl\",\"colorbar\":{\"outlinewidth\":0,\"ticks\":\"\"},\"colorscale\":[[0.0,\"#0d0887\"],[0.1111111111111111,\"#46039f\"],[0.2222222222222222,\"#7201a8\"],[0.3333333333333333,\"#9c179e\"],[0.4444444444444444,\"#bd3786\"],[0.5555555555555556,\"#d8576b\"],[0.6666666666666666,\"#ed7953\"],[0.7777777777777778,\"#fb9f3a\"],[0.8888888888888888,\"#fdca26\"],[1.0,\"#f0f921\"]]}],\"contourcarpet\":[{\"type\":\"contourcarpet\",\"colorbar\":{\"outlinewidth\":0,\"ticks\":\"\"}}],\"contour\":[{\"type\":\"contour\",\"colorbar\":{\"outlinewidth\":0,\"ticks\":\"\"},\"colorscale\":[[0.0,\"#0d0887\"],[0.1111111111111111,\"#46039f\"],[0.2222222222222222,\"#7201a8\"],[0.3333333333333333,\"#9c179e\"],[0.4444444444444444,\"#bd3786\"],[0.5555555555555556,\"#d8576b\"],[0.6666666666666666,\"#ed7953\"],[0.7777777777777778,\"#fb9f3a\"],[0.8888888888888888,\"#fdca26\"],[1.0,\"#f0f921\"]]}],\"surface\":[{\"type\":\"surface\",\"colorbar\":{\"outlinewidth\":0,\"ticks\":\"\"},\"colorscale\":[[0.0,\"#0d0887\"],[0.1111111111111111,\"#46039f\"],[0.2222222222222222,\"#7201a8\"],[0.3333333333333333,\"#9c179e\"],[0.4444444444444444,\"#bd3786\"],[0.5555555555555556,\"#d8576b\"],[0.6666666666666666,\"#ed7953\"],[0.7777777777777778,\"#fb9f3a\"],[0.8888888888888888,\"#fdca26\"],[1.0,\"#f0f921\"]]}],\"mesh3d\":[{\"type\":\"mesh3d\",\"colorbar\":{\"outlinewidth\":0,\"ticks\":\"\"}}],\"scatter\":[{\"fillpattern\":{\"fillmode\":\"overlay\",\"size\":10,\"solidity\":0.2},\"type\":\"scatter\"}],\"parcoords\":[{\"type\":\"parcoords\",\"line\":{\"colorbar\":{\"outlinewidth\":0,\"ticks\":\"\"}}}],\"scatterpolargl\":[{\"type\":\"scatterpolargl\",\"marker\":{\"colorbar\":{\"outlinewidth\":0,\"ticks\":\"\"}}}],\"bar\":[{\"error_x\":{\"color\":\"#2a3f5f\"},\"error_y\":{\"color\":\"#2a3f5f\"},\"marker\":{\"line\":{\"color\":\"#E5ECF6\",\"width\":0.5},\"pattern\":{\"fillmode\":\"overlay\",\"size\":10,\"solidity\":0.2}},\"type\":\"bar\"}],\"scattergeo\":[{\"type\":\"scattergeo\",\"marker\":{\"colorbar\":{\"outlinewidth\":0,\"ticks\":\"\"}}}],\"scatterpolar\":[{\"type\":\"scatterpolar\",\"marker\":{\"colorbar\":{\"outlinewidth\":0,\"ticks\":\"\"}}}],\"histogram\":[{\"marker\":{\"pattern\":{\"fillmode\":\"overlay\",\"size\":10,\"solidity\":0.2}},\"type\":\"histogram\"}],\"scattergl\":[{\"type\":\"scattergl\",\"marker\":{\"colorbar\":{\"outlinewidth\":0,\"ticks\":\"\"}}}],\"scatter3d\":[{\"type\":\"scatter3d\",\"line\":{\"colorbar\":{\"outlinewidth\":0,\"ticks\":\"\"}},\"marker\":{\"colorbar\":{\"outlinewidth\":0,\"ticks\":\"\"}}}],\"scattermapbox\":[{\"type\":\"scattermapbox\",\"marker\":{\"colorbar\":{\"outlinewidth\":0,\"ticks\":\"\"}}}],\"scatterternary\":[{\"type\":\"scatterternary\",\"marker\":{\"colorbar\":{\"outlinewidth\":0,\"ticks\":\"\"}}}],\"scattercarpet\":[{\"type\":\"scattercarpet\",\"marker\":{\"colorbar\":{\"outlinewidth\":0,\"ticks\":\"\"}}}],\"carpet\":[{\"aaxis\":{\"endlinecolor\":\"#2a3f5f\",\"gridcolor\":\"white\",\"linecolor\":\"white\",\"minorgridcolor\":\"white\",\"startlinecolor\":\"#2a3f5f\"},\"baxis\":{\"endlinecolor\":\"#2a3f5f\",\"gridcolor\":\"white\",\"linecolor\":\"white\",\"minorgridcolor\":\"white\",\"startlinecolor\":\"#2a3f5f\"},\"type\":\"carpet\"}],\"table\":[{\"cells\":{\"fill\":{\"color\":\"#EBF0F8\"},\"line\":{\"color\":\"white\"}},\"header\":{\"fill\":{\"color\":\"#C8D4E3\"},\"line\":{\"color\":\"white\"}},\"type\":\"table\"}],\"barpolar\":[{\"marker\":{\"line\":{\"color\":\"#E5ECF6\",\"width\":0.5},\"pattern\":{\"fillmode\":\"overlay\",\"size\":10,\"solidity\":0.2}},\"type\":\"barpolar\"}],\"pie\":[{\"automargin\":true,\"type\":\"pie\"}]},\"layout\":{\"autotypenumbers\":\"strict\",\"colorway\":[\"#636efa\",\"#EF553B\",\"#00cc96\",\"#ab63fa\",\"#FFA15A\",\"#19d3f3\",\"#FF6692\",\"#B6E880\",\"#FF97FF\",\"#FECB52\"],\"font\":{\"color\":\"#2a3f5f\"},\"hovermode\":\"closest\",\"hoverlabel\":{\"align\":\"left\"},\"paper_bgcolor\":\"white\",\"plot_bgcolor\":\"#E5ECF6\",\"polar\":{\"bgcolor\":\"#E5ECF6\",\"angularaxis\":{\"gridcolor\":\"white\",\"linecolor\":\"white\",\"ticks\":\"\"},\"radialaxis\":{\"gridcolor\":\"white\",\"linecolor\":\"white\",\"ticks\":\"\"}},\"ternary\":{\"bgcolor\":\"#E5ECF6\",\"aaxis\":{\"gridcolor\":\"white\",\"linecolor\":\"white\",\"ticks\":\"\"},\"baxis\":{\"gridcolor\":\"white\",\"linecolor\":\"white\",\"ticks\":\"\"},\"caxis\":{\"gridcolor\":\"white\",\"linecolor\":\"white\",\"ticks\":\"\"}},\"coloraxis\":{\"colorbar\":{\"outlinewidth\":0,\"ticks\":\"\"}},\"colorscale\":{\"sequential\":[[0.0,\"#0d0887\"],[0.1111111111111111,\"#46039f\"],[0.2222222222222222,\"#7201a8\"],[0.3333333333333333,\"#9c179e\"],[0.4444444444444444,\"#bd3786\"],[0.5555555555555556,\"#d8576b\"],[0.6666666666666666,\"#ed7953\"],[0.7777777777777778,\"#fb9f3a\"],[0.8888888888888888,\"#fdca26\"],[1.0,\"#f0f921\"]],\"sequentialminus\":[[0.0,\"#0d0887\"],[0.1111111111111111,\"#46039f\"],[0.2222222222222222,\"#7201a8\"],[0.3333333333333333,\"#9c179e\"],[0.4444444444444444,\"#bd3786\"],[0.5555555555555556,\"#d8576b\"],[0.6666666666666666,\"#ed7953\"],[0.7777777777777778,\"#fb9f3a\"],[0.8888888888888888,\"#fdca26\"],[1.0,\"#f0f921\"]],\"diverging\":[[0,\"#8e0152\"],[0.1,\"#c51b7d\"],[0.2,\"#de77ae\"],[0.3,\"#f1b6da\"],[0.4,\"#fde0ef\"],[0.5,\"#f7f7f7\"],[0.6,\"#e6f5d0\"],[0.7,\"#b8e186\"],[0.8,\"#7fbc41\"],[0.9,\"#4d9221\"],[1,\"#276419\"]]},\"xaxis\":{\"gridcolor\":\"white\",\"linecolor\":\"white\",\"ticks\":\"\",\"title\":{\"standoff\":15},\"zerolinecolor\":\"white\",\"automargin\":true,\"zerolinewidth\":2},\"yaxis\":{\"gridcolor\":\"white\",\"linecolor\":\"white\",\"ticks\":\"\",\"title\":{\"standoff\":15},\"zerolinecolor\":\"white\",\"automargin\":true,\"zerolinewidth\":2},\"scene\":{\"xaxis\":{\"backgroundcolor\":\"#E5ECF6\",\"gridcolor\":\"white\",\"linecolor\":\"white\",\"showbackground\":true,\"ticks\":\"\",\"zerolinecolor\":\"white\",\"gridwidth\":2},\"yaxis\":{\"backgroundcolor\":\"#E5ECF6\",\"gridcolor\":\"white\",\"linecolor\":\"white\",\"showbackground\":true,\"ticks\":\"\",\"zerolinecolor\":\"white\",\"gridwidth\":2},\"zaxis\":{\"backgroundcolor\":\"#E5ECF6\",\"gridcolor\":\"white\",\"linecolor\":\"white\",\"showbackground\":true,\"ticks\":\"\",\"zerolinecolor\":\"white\",\"gridwidth\":2}},\"shapedefaults\":{\"line\":{\"color\":\"#2a3f5f\"}},\"annotationdefaults\":{\"arrowcolor\":\"#2a3f5f\",\"arrowhead\":0,\"arrowwidth\":1},\"geo\":{\"bgcolor\":\"white\",\"landcolor\":\"#E5ECF6\",\"subunitcolor\":\"white\",\"showland\":true,\"showlakes\":true,\"lakecolor\":\"white\"},\"title\":{\"x\":0.05},\"mapbox\":{\"style\":\"light\"}}}},                        {\"responsive\": true}                    ).then(function(){\n",
       "                            \n",
       "var gd = document.getElementById('93f8c941-ee42-4a4b-915f-1a1acdc0c469');\n",
       "var x = new MutationObserver(function (mutations, observer) {{\n",
       "        var display = window.getComputedStyle(gd).display;\n",
       "        if (!display || display === 'none') {{\n",
       "            console.log([gd, 'removed!']);\n",
       "            Plotly.purge(gd);\n",
       "            observer.disconnect();\n",
       "        }}\n",
       "}});\n",
       "\n",
       "// Listen for the removal of the full notebook cells\n",
       "var notebookContainer = gd.closest('#notebook-container');\n",
       "if (notebookContainer) {{\n",
       "    x.observe(notebookContainer, {childList: true});\n",
       "}}\n",
       "\n",
       "// Listen for the clearing of the current output cell\n",
       "var outputEl = gd.closest('.output');\n",
       "if (outputEl) {{\n",
       "    x.observe(outputEl, {childList: true});\n",
       "}}\n",
       "\n",
       "                        })                };                });            </script>        </div>"
      ]
     },
     "metadata": {},
     "output_type": "display_data"
    }
   ],
   "source": [
    "from ax.service.utils.report_utils import _pareto_frontier_scatter_2d_plotly\n",
    "\n",
    "_pareto_frontier_scatter_2d_plotly(experiment)"
   ]
  },
  {
   "cell_type": "code",
   "execution_count": 87,
   "id": "fe2373a9-d416-44c2-abdd-02099c81398e",
   "metadata": {},
   "outputs": [
    {
     "ename": "NotImplementedError",
     "evalue": "",
     "output_type": "error",
     "traceback": [
      "\u001b[0;31m---------------------------------------------------------------------------\u001b[0m",
      "\u001b[0;31mNotImplementedError\u001b[0m                       Traceback (most recent call last)",
      "Cell \u001b[0;32mIn[87], line 5\u001b[0m\n\u001b[1;32m      2\u001b[0m \u001b[38;5;28;01mfrom\u001b[39;00m \u001b[38;5;21;01max\u001b[39;00m\u001b[38;5;21;01m.\u001b[39;00m\u001b[38;5;21;01mplot\u001b[39;00m\u001b[38;5;21;01m.\u001b[39;00m\u001b[38;5;21;01mdiagnostic\u001b[39;00m \u001b[38;5;28;01mimport\u001b[39;00m interact_cross_validation_plotly\n\u001b[1;32m      3\u001b[0m \u001b[38;5;28;01mfrom\u001b[39;00m \u001b[38;5;21;01max\u001b[39;00m\u001b[38;5;21;01m.\u001b[39;00m\u001b[38;5;21;01mutils\u001b[39;00m\u001b[38;5;21;01m.\u001b[39;00m\u001b[38;5;21;01mnotebook\u001b[39;00m\u001b[38;5;21;01m.\u001b[39;00m\u001b[38;5;21;01mplotting\u001b[39;00m \u001b[38;5;28;01mimport\u001b[39;00m init_notebook_plotting, render\n\u001b[0;32m----> 5\u001b[0m cv \u001b[38;5;241m=\u001b[39m \u001b[43mcross_validate\u001b[49m\u001b[43m(\u001b[49m\u001b[43mmodel\u001b[49m\u001b[38;5;241;43m=\u001b[39;49m\u001b[43mgs\u001b[49m\u001b[38;5;241;43m.\u001b[39;49m\u001b[43mmodel\u001b[49m\u001b[43m)\u001b[49m  \u001b[38;5;66;03m# The surrogate model is stored on the ``GenerationStrategy``\u001b[39;00m\n\u001b[1;32m      6\u001b[0m compute_diagnostics(cv)\n\u001b[1;32m      8\u001b[0m interact_cross_validation_plotly(cv)\n",
      "File \u001b[0;32m~/.cache/pypoetry/virtualenvs/aws-botorch-torchx-087hCjDl-py3.10/lib/python3.10/site-packages/ax/modelbridge/cross_validation.py:167\u001b[0m, in \u001b[0;36mcross_validate\u001b[0;34m(model, folds, test_selector, untransform, use_posterior_predictive)\u001b[0m\n\u001b[1;32m    165\u001b[0m \u001b[38;5;66;03m# Make the prediction\u001b[39;00m\n\u001b[1;32m    166\u001b[0m \u001b[38;5;28;01mif\u001b[39;00m untransform:\n\u001b[0;32m--> 167\u001b[0m     cv_test_predictions \u001b[38;5;241m=\u001b[39m \u001b[43mmodel\u001b[49m\u001b[38;5;241;43m.\u001b[39;49m\u001b[43mcross_validate\u001b[49m\u001b[43m(\u001b[49m\n\u001b[1;32m    168\u001b[0m \u001b[43m        \u001b[49m\u001b[43mcv_training_data\u001b[49m\u001b[38;5;241;43m=\u001b[39;49m\u001b[43mcv_training_data\u001b[49m\u001b[43m,\u001b[49m\n\u001b[1;32m    169\u001b[0m \u001b[43m        \u001b[49m\u001b[43mcv_test_points\u001b[49m\u001b[38;5;241;43m=\u001b[39;49m\u001b[43mcv_test_points\u001b[49m\u001b[43m,\u001b[49m\n\u001b[1;32m    170\u001b[0m \u001b[43m        \u001b[49m\u001b[43muse_posterior_predictive\u001b[49m\u001b[38;5;241;43m=\u001b[39;49m\u001b[43muse_posterior_predictive\u001b[49m\u001b[43m,\u001b[49m\n\u001b[1;32m    171\u001b[0m \u001b[43m    \u001b[49m\u001b[43m)\u001b[49m\n\u001b[1;32m    172\u001b[0m \u001b[38;5;28;01melse\u001b[39;00m:\n\u001b[1;32m    173\u001b[0m     \u001b[38;5;66;03m# Get test predictions in transformed space\u001b[39;00m\n\u001b[1;32m    174\u001b[0m     (\n\u001b[1;32m    175\u001b[0m         cv_training_data,\n\u001b[1;32m    176\u001b[0m         cv_test_points,\n\u001b[0;32m   (...)\u001b[0m\n\u001b[1;32m    179\u001b[0m         cv_training_data\u001b[38;5;241m=\u001b[39mcv_training_data, cv_test_points\u001b[38;5;241m=\u001b[39mcv_test_points\n\u001b[1;32m    180\u001b[0m     )\n",
      "File \u001b[0;32m~/.cache/pypoetry/virtualenvs/aws-botorch-torchx-087hCjDl-py3.10/lib/python3.10/site-packages/ax/modelbridge/base.py:910\u001b[0m, in \u001b[0;36mModelBridge.cross_validate\u001b[0;34m(self, cv_training_data, cv_test_points, use_posterior_predictive)\u001b[0m\n\u001b[1;32m    901\u001b[0m \u001b[38;5;28;01mwith\u001b[39;00m warnings\u001b[38;5;241m.\u001b[39mcatch_warnings():\n\u001b[1;32m    902\u001b[0m     \u001b[38;5;66;03m# Since each CV fold removes points from the training data, the remaining\u001b[39;00m\n\u001b[1;32m    903\u001b[0m     \u001b[38;5;66;03m# observations will not pass the standardization test. To avoid confusing\u001b[39;00m\n\u001b[1;32m    904\u001b[0m     \u001b[38;5;66;03m# users with this warning, we filter it out.\u001b[39;00m\n\u001b[1;32m    905\u001b[0m     warnings\u001b[38;5;241m.\u001b[39mfilterwarnings(\n\u001b[1;32m    906\u001b[0m         \u001b[38;5;124m\"\u001b[39m\u001b[38;5;124mignore\u001b[39m\u001b[38;5;124m\"\u001b[39m,\n\u001b[1;32m    907\u001b[0m         message\u001b[38;5;241m=\u001b[39m\u001b[38;5;124mr\u001b[39m\u001b[38;5;124m\"\u001b[39m\u001b[38;5;124mData \u001b[39m\u001b[38;5;124m\\\u001b[39m\u001b[38;5;124m(outcome observations\u001b[39m\u001b[38;5;124m\\\u001b[39m\u001b[38;5;124m) is not standardized\u001b[39m\u001b[38;5;124m\"\u001b[39m,\n\u001b[1;32m    908\u001b[0m         category\u001b[38;5;241m=\u001b[39mInputDataWarning,\n\u001b[1;32m    909\u001b[0m     )\n\u001b[0;32m--> 910\u001b[0m     cv_predictions \u001b[38;5;241m=\u001b[39m \u001b[38;5;28;43mself\u001b[39;49m\u001b[38;5;241;43m.\u001b[39;49m\u001b[43m_cross_validate\u001b[49m\u001b[43m(\u001b[49m\n\u001b[1;32m    911\u001b[0m \u001b[43m        \u001b[49m\u001b[43msearch_space\u001b[49m\u001b[38;5;241;43m=\u001b[39;49m\u001b[43msearch_space\u001b[49m\u001b[43m,\u001b[49m\n\u001b[1;32m    912\u001b[0m \u001b[43m        \u001b[49m\u001b[43mcv_training_data\u001b[49m\u001b[38;5;241;43m=\u001b[39;49m\u001b[43mcv_training_data\u001b[49m\u001b[43m,\u001b[49m\n\u001b[1;32m    913\u001b[0m \u001b[43m        \u001b[49m\u001b[43mcv_test_points\u001b[49m\u001b[38;5;241;43m=\u001b[39;49m\u001b[43mcv_test_points\u001b[49m\u001b[43m,\u001b[49m\n\u001b[1;32m    914\u001b[0m \u001b[43m        \u001b[49m\u001b[43muse_posterior_predictive\u001b[49m\u001b[38;5;241;43m=\u001b[39;49m\u001b[43muse_posterior_predictive\u001b[49m\u001b[43m,\u001b[49m\n\u001b[1;32m    915\u001b[0m \u001b[43m    \u001b[49m\u001b[43m)\u001b[49m\n\u001b[1;32m    916\u001b[0m \u001b[38;5;66;03m# Apply reverse transforms, in reverse order\u001b[39;00m\n\u001b[1;32m    917\u001b[0m cv_test_observations \u001b[38;5;241m=\u001b[39m [\n\u001b[1;32m    918\u001b[0m     Observation(features\u001b[38;5;241m=\u001b[39mobsf, data\u001b[38;5;241m=\u001b[39mcv_predictions[i])\n\u001b[1;32m    919\u001b[0m     \u001b[38;5;28;01mfor\u001b[39;00m i, obsf \u001b[38;5;129;01min\u001b[39;00m \u001b[38;5;28menumerate\u001b[39m(cv_test_points)\n\u001b[1;32m    920\u001b[0m ]\n",
      "File \u001b[0;32m~/.cache/pypoetry/virtualenvs/aws-botorch-torchx-087hCjDl-py3.10/lib/python3.10/site-packages/ax/modelbridge/random.py:105\u001b[0m, in \u001b[0;36mRandomModelBridge._cross_validate\u001b[0;34m(self, search_space, cv_training_data, cv_test_points, use_posterior_predictive)\u001b[0m\n\u001b[1;32m     98\u001b[0m \u001b[38;5;28;01mdef\u001b[39;00m \u001b[38;5;21m_cross_validate\u001b[39m(\n\u001b[1;32m     99\u001b[0m     \u001b[38;5;28mself\u001b[39m,\n\u001b[1;32m    100\u001b[0m     search_space: SearchSpace,\n\u001b[0;32m   (...)\u001b[0m\n\u001b[1;32m    103\u001b[0m     use_posterior_predictive: \u001b[38;5;28mbool\u001b[39m \u001b[38;5;241m=\u001b[39m \u001b[38;5;28;01mFalse\u001b[39;00m,\n\u001b[1;32m    104\u001b[0m ) \u001b[38;5;241m-\u001b[39m\u001b[38;5;241m>\u001b[39m \u001b[38;5;28mlist\u001b[39m[ObservationData]:\n\u001b[0;32m--> 105\u001b[0m     \u001b[38;5;28;01mraise\u001b[39;00m \u001b[38;5;167;01mNotImplementedError\u001b[39;00m\n",
      "\u001b[0;31mNotImplementedError\u001b[0m: "
     ]
    }
   ],
   "source": [
    "from ax.modelbridge.cross_validation import compute_diagnostics, cross_validate\n",
    "from ax.plot.diagnostic import interact_cross_validation_plotly\n",
    "from ax.utils.notebook.plotting import init_notebook_plotting, render\n",
    "\n",
    "cv = cross_validate(model=gs.model)  # The surrogate model is stored on the ``GenerationStrategy``\n",
    "compute_diagnostics(cv)\n",
    "\n",
    "interact_cross_validation_plotly(cv)"
   ]
  },
  {
   "cell_type": "code",
   "execution_count": null,
   "id": "2b6e95ac-ce9e-46ba-bec2-ec054e05e6cc",
   "metadata": {},
   "outputs": [],
   "source": [
    "from ax.plot.contour import interact_contour_plotly\n",
    "\n",
    "interact_contour_plotly(model=gs.model, metric_name=\"val_acc\")"
   ]
  },
  {
   "cell_type": "code",
   "execution_count": null,
   "id": "b3c51195-b948-464e-ad28-4602446bd92b",
   "metadata": {},
   "outputs": [],
   "source": [
    "interact_contour_plotly(model=gs.model, metric_name=\"num_params\")"
   ]
  }
 ],
 "metadata": {
  "kernelspec": {
   "display_name": "Python 3 (ipykernel)",
   "language": "python",
   "name": "python3"
  },
  "language_info": {
   "codemirror_mode": {
    "name": "ipython",
    "version": 3
   },
   "file_extension": ".py",
   "mimetype": "text/x-python",
   "name": "python",
   "nbconvert_exporter": "python",
   "pygments_lexer": "ipython3",
   "version": "3.10.14"
  }
 },
 "nbformat": 4,
 "nbformat_minor": 5
}
